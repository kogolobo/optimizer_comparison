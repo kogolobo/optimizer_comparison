{
 "cells": [
  {
   "cell_type": "code",
   "execution_count": null,
   "metadata": {},
   "outputs": [],
   "source": [
    "from torch import nn, optim\n",
    "from sklearn.metrics import confusion_matrix\n",
    "\n",
    "from model import FeedforwardNeuralNet\n",
    "from data import MNISTDataset, CIFAR10Dataset\n",
    "from trainer import Trainer\n",
    "\n",
    "epochs = 1\n",
    "lr = 0.01\n",
    "train_batch_size = 64\n",
    "eval_batch_size = 512\n",
    "\n",
    "dataset = MNISTDataset(train_batch_size, eval_batch_size)\n",
    "model = FeedforwardNeuralNet(dataset.input_size, dataset.output_size)\n",
    "criterion = nn.CrossEntropyLoss()\n",
    "optimizer = optim.SGD(model.parameters(), lr=lr)\n",
    "\n",
    "trainer = Trainer(model, dataset, criterion, optimizer)\n",
    "trainer.train(epochs)"
   ]
  },
  {
   "cell_type": "code",
   "execution_count": null,
   "metadata": {},
   "outputs": [],
   "source": [
    "import matplotlib.pyplot as plt\n",
    "import seaborn as sns\n",
    "import numpy as np\n",
    "\n",
    "def plot_heatmap(conf_matrix: np.ndarray) -> None:\n",
    "    plt.figure(figsize=(10, 7))\n",
    "    sns.set(font_scale=1.4)  # for label size\n",
    "    sns.heatmap(conf_matrix, annot=True, annot_kws={\"size\": 16}, fmt='g', cmap='Blues', cbar=False)\n",
    "\n",
    "    plt.xlabel('Predicted labels')\n",
    "    plt.ylabel('True labels')\n",
    "    plt.title('Confusion Matrix')\n",
    "    plt.show()\n",
    "\n",
    "conf_matrix = confusion_matrix(trainer.true_labels, trainer.predictions)\n",
    "plot_heatmap(conf_matrix)"
   ]
  }
 ],
 "metadata": {
  "kernelspec": {
   "display_name": "opt",
   "language": "python",
   "name": "python3"
  },
  "language_info": {
   "codemirror_mode": {
    "name": "ipython",
    "version": 3
   },
   "file_extension": ".py",
   "mimetype": "text/x-python",
   "name": "python",
   "nbconvert_exporter": "python",
   "pygments_lexer": "ipython3",
   "version": "3.11.7"
  }
 },
 "nbformat": 4,
 "nbformat_minor": 2
}
