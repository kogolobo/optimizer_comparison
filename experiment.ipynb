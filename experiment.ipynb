{
 "cells": [
  {
   "cell_type": "code",
   "execution_count": null,
   "metadata": {},
   "outputs": [],
   "source": [
    "from torch import nn, optim\n",
    "from torchvision.models import resnet50, ResNet50_Weights\n",
    "from sklearn.metrics import confusion_matrix\n",
    "\n",
    "from model import FeedforwardNeuralNet\n",
    "from data import MNISTDataset, CIFAR10Dataset\n",
    "from trainer import Trainer\n",
    "from utils import Experiment, plot_train_losses, plot_eval_losses, plot_accuracies\n",
    "\n",
    "epochs = 1\n",
    "lr = 0.001\n",
    "train_batch_size = 512\n",
    "eval_batch_size = 1000\n",
    "model = \"resnet\"\n",
    "\n",
    "experiments = [\n",
    "    Experiment(\"SGD\", optim.SGD),\n",
    "    Experiment(\"Adagrad\", optim.Adagrad),\n",
    "    Experiment(\"RMSprop\", optim.RMSprop),\n",
    "    Experiment(\"Adam\", optim.Adam)\n",
    "]\n",
    "\n",
    "for exp in experiments:\n",
    "    print(f\"Training with {exp.optimizer_name} optimizer\")\n",
    "    if model == 'resnet':\n",
    "        model = resnet50(weights=ResNet50_Weights.DEFAULT)\n",
    "\n",
    "    criterion = nn.CrossEntropyLoss()\n",
    "    dataset = CIFAR10Dataset(train_batch_size, eval_batch_size)\n",
    "    trainer = Trainer(model, dataset, criterion, exp.optimizer_cls, lr)\n",
    "    trainer.train(epochs)\n",
    "    exp.add_trainer_state(trainer)\n",
    "\n",
    "plot_train_losses(experiments)\n",
    "plot_eval_losses(experiments)\n",
    "plot_accuracies(experiments)\n",
    "\n"
   ]
  }
 ],
 "metadata": {
  "kernelspec": {
   "display_name": "opt",
   "language": "python",
   "name": "python3"
  },
  "language_info": {
   "codemirror_mode": {
    "name": "ipython",
    "version": 3
   },
   "file_extension": ".py",
   "mimetype": "text/x-python",
   "name": "python",
   "nbconvert_exporter": "python",
   "pygments_lexer": "ipython3",
   "version": "3.11.7"
  }
 },
 "nbformat": 4,
 "nbformat_minor": 2
}
